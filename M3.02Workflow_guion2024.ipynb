{
 "cells": [
  {
   "cell_type": "markdown",
   "metadata": {},
   "source": [
    "# Workflow\n",
    "\n",
    "En esta práctica vamos a aplicar lo aprendido en esta asignatura para crear un flujo que automatice la descarga, análisis y publicación de los datos utilizando distintas herramientas como Zenodo, github y librerías de python para el análisis de datos.\n",
    "\n",
    "Para ello, utilizaremos la versión de testing de Zenodo (https://sandbox.zenodo.org/) para evitar problemas de baneo de IPs. También, GitHub para almacenar código que ejecutaremos de forma automática.\n",
    "\n",
    "Antes de empezar, selecciona un dataset sencillo y un script básico que sea capaz de procesar ese dataset. Por ejemplo: Un CSV y un script que haga un plot con los datos y lo guarde como imagen. Puedes coger algo de alguna práctica de otra asignatura.\n",
    "\n",
    "### Librerías necesarias para la práctica\n",
    "\n",
    "```python\n",
    "import xml.etree.ElementTree as ET\n",
    "import requests\n",
    "import json\n",
    "import zipfile\n",
    "```\n",
    "\n",
    "### Elementos necesarios\n",
    "* Al menos un fichero CSV\n",
    "* Un script de análisis de datos en CSV (Publicado en Github)\n"
   ]
  },
  {
   "cell_type": "markdown",
   "metadata": {},
   "source": [
    "# Publicación de datos iniciales\n",
    "\n",
    "Utilizando Zenodo (https://sandbox.zenodo.org/), de forma manual, publicar los datos que se vayan a utilizar. En la página principal, una vez logueado (te tendrás que registrar, mejor utilizando tu login de GitHub), en el símbolo +, New upload. Rellena los campos y publica.\n",
    "\n",
    "<div class=\"alert alert-warning\" role=\"alert\" style=\"margin: 10px\">\n",
    "<p>Utilizar Communities para localizar más facilmente los datos</p>\n",
    "</div>\n",
    "\n",
    "Haz un print del DOI que te da al subir el dataset.\n"
   ]
  },
  {
   "cell_type": "code",
   "execution_count": null,
   "metadata": {},
   "outputs": [],
   "source": []
  },
  {
   "cell_type": "markdown",
   "metadata": {},
   "source": [
    "# Publicación de script de Análisis\n",
    "\n",
    "Selecciona el script sencillo de análisis que sea capaz de procesar el dataset que has subido. Guardalo en GitHub.\n",
    "\n",
    "Desde tu perfil de usuario en Zenodo (SandBox), selecciona la opción GitHub. Si no lo tienes ya, necesitarás conectar tu usuario de GitHub. Desde allí, te indica cómo puedes generar un objeto digital con su DOI de un repositorio de Github. Entre otras cosas, te lleva a crear una \"release\" de tu código. Una vez está todo, obtendrás un DOI de ese repo. Muéstralo debajo."
   ]
  },
  {
   "cell_type": "code",
   "execution_count": null,
   "metadata": {},
   "outputs": [],
   "source": []
  },
  {
   "cell_type": "markdown",
   "metadata": {},
   "source": [
    "# Descarga de datos\n",
    "\n",
    "Desde Zenodo, utilizando los métodos conocidos (OAI-PMH, API)\n",
    "\n",
    "Pista: url+'?verb=ListRecords&set=nombre_set"
   ]
  },
  {
   "cell_type": "code",
   "execution_count": 1,
   "metadata": {},
   "outputs": [],
   "source": [
    "import requests\n",
    "import json\n",
    "import csv\n",
    "from datetime import datetime\n",
    "import xml.etree.cElementTree as ET"
   ]
  },
  {
   "cell_type": "markdown",
   "metadata": {},
   "source": [
    "Un par de funciones para búsqueda"
   ]
  },
  {
   "cell_type": "code",
   "execution_count": 2,
   "metadata": {},
   "outputs": [],
   "source": [
    "def search_dataset(url,oai_set,metadata_format):\n",
    "    \"\"\"Search the datasets identifiers in the defined set\n",
    "        Parameters\n",
    "        ----------\n",
    "        url : string\n",
    "            OAI-PMH endpoint url\n",
    "        oai_set : string\n",
    "            OAI-PMH set where the datasets will be searched\n",
    "        metadata_format : string\n",
    "            Selected metadata format to search\n",
    "        Returns\n",
    "        -------\n",
    "        dataset_ids : array \n",
    "            Dataset IDs\n",
    "    \"\"\"\n",
    "    #Define bounds to search in specific set\n",
    "    bounds = \"&set=\"+oai_set\n",
    "    oai = requests.get(url+'?verb=ListRecords&metadataPrefix='+metadata_format+bounds)\n",
    "\n",
    "    oaiTree = ET.ElementTree(ET.fromstring(oai.text.encode('utf-8')))\n",
    "    item = oaiTree.findall('.//{http://datacite.org/schema/kernel-3}identifier')\n",
    "    return item"
   ]
  },
  {
   "cell_type": "code",
   "execution_count": 3,
   "metadata": {},
   "outputs": [],
   "source": [
    "def get_oai_metadata_formats(url):\n",
    "    \"\"\"Lists the available metadata formats\n",
    "        Parameters\n",
    "        ----------\n",
    "        url : string\n",
    "            OAI-PMH endpoint url\n",
    "        Returns\n",
    "        -------\n",
    "        metadata_formats : \n",
    "            Name of the downloaded file(s).\n",
    "    \"\"\"\n",
    "    metadata_formats = []\n",
    "    oai_verb = '?verb=ListMetadataFormats'\n",
    "    oai = requests.get(url + oai_verb) #Peticion al servidor\n",
    "    xmlTree = ET.ElementTree(ET.fromstring(oai.text))\n",
    "    iterator = xmlTree.iter()\n",
    "    for elem in iterator:\n",
    "        if (elem.tag == '{http://www.openarchives.org/OAI/2.0/}metadataPrefix'):\n",
    "            metadata_formats.append(elem.text)\n",
    "    return metadata_formats"
   ]
  },
  {
   "cell_type": "code",
   "execution_count": 19,
   "metadata": {},
   "outputs": [],
   "source": [
    "def check_dataset(ids,api_url,tipo):\n",
    "    \"\"\"Checks if the available datasets satisfy the dates and location req\n",
    "        Parameters\n",
    "        ----------\n",
    "        ids : array\n",
    "            List of dataset ids\n",
    "        api_url : string\n",
    "            API to get dataset metadata\n",
    "        tipo : string\n",
    "            type of file to download\n",
    "        Returns\n",
    "        -------\n",
    "        downloaded_datasets : array \n",
    "            List of downloaded datasets\n",
    "    \"\"\"\n",
    "    list_of_files = []\n",
    "    for i in ids:\n",
    "        print(\"Checking \" + i)\n",
    "        response = requests.get('https://sandbox.zenodo.org/api/records', params={'q': i.split('.')[-1]})\n",
    "        url_to_check = response.json()['hits']['hits'][0]['links']['latest']\n",
    "        headers = {'accept': 'application/json', 'Content-Type': 'application/json'}\n",
    "        metadata = requests.get(url_to_check, headers=headers)\n",
    "        for e in metadata.json()['files']:\n",
    "            print(e)\n",
    "            if (\".%s\" % tipo) in e['key']:\n",
    "                file_name = e['key'].replace('/','_')\n",
    "                list_of_files.append(file_name)\n",
    "                link = e['links']['self']\n",
    "                with open(file_name, \"wb\") as f:\n",
    "                    print(\"Downloading %s\" % file_name)\n",
    "                    response = requests.get(link, stream=True)\n",
    "                    total_length = response.headers.get('content-length')\n",
    "                    if total_length is None: # no content length header\n",
    "                        f.write(response.content)\n",
    "                    else:\n",
    "                        dl = 0\n",
    "                        total_length = int(total_length)\n",
    "                        for data in response.iter_content(chunk_size=4096):\n",
    "                            dl += len(data)\n",
    "                            f.write(data)\n",
    "                            done = int(50 * dl / total_length)\n",
    "                            sys.stdout.write(\"\\r[%s%s]\" % ('=' * done, ' ' * (50-done)) )    \n",
    "                            sys.stdout.flush()\n",
    "      \n",
    "    return list_of_files"
   ]
  },
  {
   "cell_type": "markdown",
   "metadata": {},
   "source": [
    "Busco el dataset y el código publicado. Si no lo localizas con OAI-PMH, puedes introducir directamente los DOIs."
   ]
  },
  {
   "cell_type": "code",
   "execution_count": 21,
   "metadata": {},
   "outputs": [
    {
     "name": "stdout",
     "output_type": "stream",
     "text": [
      "Searching datasets OAI-PMH\n",
      "Searching Datasets\n",
      "[]\n",
      "Checking/download Datasets\n",
      "Checking 10.5072/zenodo.23572\n",
      "{'id': '81667ca6-ded1-45bc-80f3-0be640bd1281', 'key': 'amt_2010.csv', 'size': 4275737, 'checksum': 'md5:f38ded28383d9f69af7cb9c98aed798b', 'links': {'self': 'https://sandbox.zenodo.org/api/records/23572/files/amt_2010.csv/content'}}\n",
      "Downloading amt_2010.csv\n",
      "Checking 10.5072/zenodo.23574\n",
      "{'id': '10b037eb-7ffe-496c-b634-1542d44a342a', 'key': 'ferag/dlc_metadata_2023-t1.zip', 'size': 5784, 'checksum': 'md5:8f54483a372e6bc2abf82ec77c437f12', 'links': {'self': 'https://sandbox.zenodo.org/api/records/23574/files/ferag/dlc_metadata_2023-t1.zip/content'}}\n",
      "['amt_2010.csv']\n",
      "Checking 10.5072/zenodo.23572\n",
      "{'id': '81667ca6-ded1-45bc-80f3-0be640bd1281', 'key': 'amt_2010.csv', 'size': 4275737, 'checksum': 'md5:f38ded28383d9f69af7cb9c98aed798b', 'links': {'self': 'https://sandbox.zenodo.org/api/records/23572/files/amt_2010.csv/content'}}\n",
      "Checking 10.5072/zenodo.23574\n",
      "{'id': '10b037eb-7ffe-496c-b634-1542d44a342a', 'key': 'ferag/dlc_metadata_2023-t1.zip', 'size': 5784, 'checksum': 'md5:8f54483a372e6bc2abf82ec77c437f12', 'links': {'self': 'https://sandbox.zenodo.org/api/records/23574/files/ferag/dlc_metadata_2023-t1.zip/content'}}\n",
      "Downloading ferag_dlc_metadata_2023-t1.zip\n",
      "[==================================================]['ferag_dlc_metadata_2023-t1.zip']\n"
     ]
    }
   ],
   "source": [
    "import sys\n",
    "#Searching datasets OAI-PMH\n",
    "print(\"Searching datasets OAI-PMH\")\n",
    "oai_url = 'https://sandbox.zenodo.org/oai2d'\n",
    "metadata_formats = get_oai_metadata_formats(oai_url)\n",
    "\n",
    "#TODO hardcoded\n",
    "print(\"Searching Datasets\")\n",
    "oai_set = 'user-cdp'\n",
    "dataset_list = search_dataset(oai_url,oai_set,'oai_datacite3')\n",
    "print(dataset_list)\n",
    "\n",
    "print(\"Checking/download Datasets\")\n",
    "api_url = 'https://sandbox.zenodo.org/'\n",
    "\n",
    "dataset_list = [\"10.5072/zenodo.23572\", \"10.5072/zenodo.23574\"] #Esto lo tienes que cambiar ;)\n",
    "\n",
    "csv_files = check_dataset(dataset_list,api_url,'csv')\n",
    "print(csv_files)\n",
    "\n",
    "zip_files = check_dataset(dataset_list,api_url,'zip')\n",
    "print(zip_files)"
   ]
  },
  {
   "cell_type": "markdown",
   "metadata": {},
   "source": [
    "Descomprime el código, que viene en un zip (tienes que cambiar los nombres)"
   ]
  },
  {
   "cell_type": "code",
   "execution_count": 56,
   "metadata": {},
   "outputs": [
    {
     "data": {
      "text/plain": [
       "0"
      ]
     },
     "execution_count": 56,
     "metadata": {},
     "output_type": "execute_result"
    }
   ],
   "source": [
    "import zipfile\n",
    "import os\n",
    "with zipfile.ZipFile(\"ferag_csvprinter-1.02.zip\", 'r') as zip_ref:\n",
    "    zip_ref.extractall(\".\")\n",
    "os.system(\"mv ./ferag-csvprinter-59552e7/* .\")"
   ]
  },
  {
   "cell_type": "markdown",
   "metadata": {},
   "source": [
    "Haz algo con el dataset, mostrarlo de algún modo."
   ]
  },
  {
   "cell_type": "code",
   "execution_count": 57,
   "metadata": {},
   "outputs": [
    {
     "data": {
      "image/png": "[encoded data removed]",
      "text/plain": [
       "<Figure size 640x480 with 1 Axes>"
      ]
     },
     "metadata": {},
     "output_type": "display_data"
    }
   ],
   "source": [
    "import pandas as pd\n",
    "import matplotlib.pyplot as plt\n",
    "\n",
    "data = pd.read_csv('amt_2010.csv',delimiter=';')\n",
    "data['date'] = pd.to_datetime(data['date'])\n",
    "data.plot(x='date', y='Temp')\n",
    "plt.show()"
   ]
  },
  {
   "cell_type": "code",
   "execution_count": 58,
   "metadata": {},
   "outputs": [
    {
     "name": "stdout",
     "output_type": "stream",
     "text": [
      "Number of arguments: 2 arguments\n",
      "Argument List:['plot.py', 'amt_2010.csv']\n"
     ]
    },
    {
     "data": {
      "image/png": "[encoded data removed]",
      "text/plain": [
       "<Figure size 640x480 with 1 Axes>"
      ]
     },
     "metadata": {},
     "output_type": "display_data"
    }
   ],
   "source": [
    "%run -i plot.py amt_2010.csv"
   ]
  },
  {
   "cell_type": "code",
   "execution_count": 59,
   "metadata": {},
   "outputs": [
    {
     "name": "stdout",
     "output_type": "stream",
     "text": [
      "amt_2010.csv               GuionPractica_Zenodo.ipynb        README.md\n",
      "ferag_csvprinter-1.02.zip  M3.02Workflow_resuelto2023.ipynb\n",
      "\u001b[0m\u001b[01;34mferag-csvprinter-59552e7\u001b[0m/  plot.py\n"
     ]
    }
   ],
   "source": [
    "ls"
   ]
  },
  {
   "cell_type": "markdown",
   "metadata": {},
   "source": [
    "# Publicación de los Datos\n",
    "\n",
    "Utilizando la API de Zenodo SandBox, necesitarás un access token que te permita hacer la publicación. Echa un vistazo a la documentación para ver cómo se consigue. Es fácil...\n",
    "Después, modifica este código para crear un nuevo depósito con el resultado generado (una imagen, un dataset derivado, un texto con el print de los datos...)"
   ]
  },
  {
   "cell_type": "code",
   "execution_count": 66,
   "metadata": {},
   "outputs": [
    {
     "data": {
      "text/plain": [
       "[{'conceptdoi': '10.5072/zenodo.1150229',\n",
       "  'conceptrecid': '1150229',\n",
       "  'created': '2023-01-23T08:03:50.668985',\n",
       "  'doi': '10.5072/zenodo.1150230',\n",
       "  'doi_url': 'https://doi.org/10.5072/zenodo.1150230',\n",
       "  'files': [{'checksum': 'bd2f87e15ac7111513df3142f001add9',\n",
       "    'filename': 'ferag/csvprinter-1.02.zip',\n",
       "    'filesize': 740,\n",
       "    'id': '57ed82c7-b4a3-49ee-88d6-86debcae0fc5',\n",
       "    'links': {'download': 'https://sandbox.zenodo.org/api/files/45496d02-c7de-4c24-ab72-b8491a29b28f/ferag/csvprinter-1.02.zip',\n",
       "     'self': 'https://sandbox.zenodo.org/api/deposit/depositions/1150230/files/57ed82c7-b4a3-49ee-88d6-86debcae0fc5'}}],\n",
       "  'id': 1150230,\n",
       "  'links': {'badge': 'https://sandbox.zenodo.org/badge/doi/10.5072/zenodo.1150230.svg',\n",
       "   'bucket': 'https://sandbox.zenodo.org/api/files/b0270ae7-16f1-4675-a5d6-d7fa90b3b21d',\n",
       "   'conceptbadge': 'https://sandbox.zenodo.org/badge/doi/10.5072/zenodo.1150229.svg',\n",
       "   'conceptdoi': 'https://doi.org/10.5072/zenodo.1150229',\n",
       "   'discard': 'https://sandbox.zenodo.org/api/deposit/depositions/1150230/actions/discard',\n",
       "   'doi': 'https://doi.org/10.5072/zenodo.1150230',\n",
       "   'edit': 'https://sandbox.zenodo.org/api/deposit/depositions/1150230/actions/edit',\n",
       "   'files': 'https://sandbox.zenodo.org/api/deposit/depositions/1150230/files',\n",
       "   'html': 'https://sandbox.zenodo.org/deposit/1150230',\n",
       "   'latest': 'https://sandbox.zenodo.org/api/records/1150230',\n",
       "   'latest_html': 'https://sandbox.zenodo.org/record/1150230',\n",
       "   'publish': 'https://sandbox.zenodo.org/api/deposit/depositions/1150230/actions/publish',\n",
       "   'record': 'https://sandbox.zenodo.org/api/records/1150230',\n",
       "   'record_html': 'https://sandbox.zenodo.org/record/1150230',\n",
       "   'self': 'https://sandbox.zenodo.org/api/deposit/depositions/1150230'},\n",
       "  'metadata': {'access_right': 'open',\n",
       "   'communities': [{'identifier': 'cdp'}],\n",
       "   'creators': [{'affiliation': '@IFCA', 'name': 'Fernando Aguilar'}],\n",
       "   'description': '<p>No description provided.</p>',\n",
       "   'doi': '10.5072/zenodo.1150230',\n",
       "   'license': 'other-open',\n",
       "   'prereserve_doi': {'doi': '10.5072/zenodo.1150230', 'recid': 1150230},\n",
       "   'publication_date': '2023-01-23',\n",
       "   'related_identifiers': [{'identifier': 'https://github.com/ferag/csvprinter/tree/1.02',\n",
       "     'relation': 'isSupplementTo',\n",
       "     'scheme': 'url'}],\n",
       "   'title': 'ferag/csvprinter: 1.02',\n",
       "   'upload_type': 'software',\n",
       "   'version': '1.02'},\n",
       "  'modified': '2023-01-23T08:06:44.361020',\n",
       "  'owner': 138970,\n",
       "  'record_id': 1150230,\n",
       "  'state': 'done',\n",
       "  'submitted': True,\n",
       "  'title': 'ferag/csvprinter: 1.02'},\n",
       " {'conceptdoi': '10.5072/zenodo.1150227',\n",
       "  'conceptrecid': '1150227',\n",
       "  'created': '2023-01-23T08:01:42.698383',\n",
       "  'doi': '10.5072/zenodo.1150228',\n",
       "  'doi_url': 'https://doi.org/10.5072/zenodo.1150228',\n",
       "  'files': [{'checksum': 'f38ded28383d9f69af7cb9c98aed798b',\n",
       "    'filename': 'amt_2010.csv',\n",
       "    'filesize': 4275737,\n",
       "    'id': '17f696e7-9147-4d31-8df3-92c978811c29',\n",
       "    'links': {'download': 'https://sandbox.zenodo.org/api/files/c0d7cb31-02d0-4e69-973d-875acc277c2b/amt_2010.csv',\n",
       "     'self': 'https://sandbox.zenodo.org/api/deposit/depositions/1150228/files/17f696e7-9147-4d31-8df3-92c978811c29'}}],\n",
       "  'id': 1150228,\n",
       "  'links': {'badge': 'https://sandbox.zenodo.org/badge/doi/10.5072/zenodo.1150228.svg',\n",
       "   'bucket': 'https://sandbox.zenodo.org/api/files/7ccc4499-d53b-451b-8fa0-3e8f736d3267',\n",
       "   'conceptbadge': 'https://sandbox.zenodo.org/badge/doi/10.5072/zenodo.1150227.svg',\n",
       "   'conceptdoi': 'https://doi.org/10.5072/zenodo.1150227',\n",
       "   'discard': 'https://sandbox.zenodo.org/api/deposit/depositions/1150228/actions/discard',\n",
       "   'doi': 'https://doi.org/10.5072/zenodo.1150228',\n",
       "   'edit': 'https://sandbox.zenodo.org/api/deposit/depositions/1150228/actions/edit',\n",
       "   'files': 'https://sandbox.zenodo.org/api/deposit/depositions/1150228/files',\n",
       "   'html': 'https://sandbox.zenodo.org/deposit/1150228',\n",
       "   'latest': 'https://sandbox.zenodo.org/api/records/1150228',\n",
       "   'latest_html': 'https://sandbox.zenodo.org/record/1150228',\n",
       "   'publish': 'https://sandbox.zenodo.org/api/deposit/depositions/1150228/actions/publish',\n",
       "   'record': 'https://sandbox.zenodo.org/api/records/1150228',\n",
       "   'record_html': 'https://sandbox.zenodo.org/record/1150228',\n",
       "   'self': 'https://sandbox.zenodo.org/api/deposit/depositions/1150228'},\n",
       "  'metadata': {'access_right': 'open',\n",
       "   'communities': [{'identifier': 'cdp'}],\n",
       "   'creators': [{'affiliation': 'CSIC',\n",
       "     'name': 'Fernando Aguilar',\n",
       "     'orcid': '0000-0001-9462-4831'}],\n",
       "   'description': '<p>AMT test</p>',\n",
       "   'doi': '10.5072/zenodo.1150228',\n",
       "   'license': 'CC-BY-4.0',\n",
       "   'prereserve_doi': {'doi': '10.5072/zenodo.1150228', 'recid': 1150228},\n",
       "   'publication_date': '2023-01-23',\n",
       "   'title': 'AMT test',\n",
       "   'upload_type': 'dataset'},\n",
       "  'modified': '2023-01-23T08:05:52.848466',\n",
       "  'owner': 138970,\n",
       "  'record_id': 1150228,\n",
       "  'state': 'done',\n",
       "  'submitted': True,\n",
       "  'title': 'AMT test'}]"
      ]
     },
     "execution_count": 66,
     "metadata": {},
     "output_type": "execute_result"
    }
   ],
   "source": [
    "ACCESS_TOKEN = 'deXgWpfrLUvl87UGdzWt0UPsipKqiBkevYIG6OGihQ5'\n",
    "r = requests.get('https://sandbox.zenodo.org/api/deposit/depositions',params={'access_token': ACCESS_TOKEN})\n",
    "r.status_code\n",
    "r.json()\n"
   ]
  },
  {
   "cell_type": "markdown",
   "metadata": {},
   "source": [
    "En la celda de abajo, tendrás que modificar cosas como el deposition_id (es un id que te dan al hacer el paso anterior, el nombre del fichero...). Echa un vistazo a la documentación, por si falta algo ;)"
   ]
  },
  {
   "cell_type": "code",
   "execution_count": 68,
   "metadata": {},
   "outputs": [
    {
     "data": {
      "text/plain": [
       "403"
      ]
     },
     "execution_count": 68,
     "metadata": {},
     "output_type": "execute_result"
    }
   ],
   "source": [
    "deposition_id = \"1150228\"\n",
    "data = {'name': 'electricom.png'}\n",
    "files = {'file': open('plot.py', 'rb')}\n",
    "r = requests.post('https://sandbox.zenodo.org/api/deposit/depositions/%s/files' % deposition_id,\n",
    "                  params={'access_token': ACCESS_TOKEN}, data=data,\n",
    "                  files=files)\n",
    "r.status_code"
   ]
  },
  {
   "cell_type": "code",
   "execution_count": null,
   "metadata": {},
   "outputs": [],
   "source": [
    "data = {\n",
    "    'metadata': {\n",
    "        'title': 'My first upload',\n",
    "        'upload_type': 'poster',\n",
    "        'description': 'This is my first upload',\n",
    "        'creators': [{'name': 'Doe, John',\n",
    "                      'affiliation': 'CSIC'}]\n",
    "    }\n",
    "}\n",
    "r = requests.put('https://sandbox.zenodo.org/api/deposit/depositions/%s' % deposition_id,\n",
    "                 params={'access_token': ACCESS_TOKEN}, data=json.dumps(data),\n",
    "                 headers=headers)\n",
    "r.status_code\n",
    "r.json()"
   ]
  },
  {
   "cell_type": "markdown",
   "metadata": {},
   "source": [
    "Una vez has publicado el resultado, recibirás un DOI. Muestralo en la última celda:"
   ]
  },
  {
   "cell_type": "code",
   "execution_count": null,
   "metadata": {},
   "outputs": [],
   "source": []
  },
  {
   "cell_type": "code",
   "execution_count": null,
   "metadata": {},
   "outputs": [],
   "source": []
  }
 ],
 "metadata": {
  "kernelspec": {
   "display_name": "Python 3 (ipykernel)",
   "language": "python",
   "name": "python3"
  },
  "language_info": {
   "codemirror_mode": {
    "name": "ipython",
    "version": 3
   },
   "file_extension": ".py",
   "mimetype": "text/x-python",
   "name": "python",
   "nbconvert_exporter": "python",
   "pygments_lexer": "ipython3",
   "version": "3.11.7"
  }
 },
 "nbformat": 4,
 "nbformat_minor": 4
}
